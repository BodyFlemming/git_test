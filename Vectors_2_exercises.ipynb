{
  "nbformat": 4,
  "nbformat_minor": 0,
  "metadata": {
    "colab": {
      "provenance": [],
      "include_colab_link": true
    },
    "kernelspec": {
      "name": "python3",
      "display_name": "Python 3"
    },
    "language_info": {
      "name": "python"
    }
  },
  "cells": [
    {
      "cell_type": "markdown",
      "metadata": {
        "id": "view-in-github",
        "colab_type": "text"
      },
      "source": [
        "<a href=\"https://colab.research.google.com/github/BodyFlemming/git_test/blob/main/Vectors_2_exercises.ipynb\" target=\"_parent\"><img src=\"https://colab.research.google.com/assets/colab-badge.svg\" alt=\"Open In Colab\"/></a>"
      ]
    },
    {
      "cell_type": "markdown",
      "source": [
        "# Exercises for Vectors 2"
      ],
      "metadata": {
        "id": "Kk1cZMAPfgMC"
      }
    },
    {
      "cell_type": "markdown",
      "source": [
        "# Exercise 1\n",
        "\n",
        "Create a column vector v of dimension 2 of your choice. Then create a vector w containing the values of v multiplied by 5. You can represent the vector set containing v and w as V = [v,w].\n",
        "\n"
      ],
      "metadata": {
        "id": "CYzMAIBFX0YO"
      }
    },
    {
      "cell_type": "code",
      "source": [],
      "metadata": {
        "id": "4jhWDMZN9kgw"
      },
      "execution_count": null,
      "outputs": []
    },
    {
      "cell_type": "markdown",
      "source": [
        "# Exercise 2\n",
        "\n",
        "The following code should return:\n",
        "\n",
        "\n",
        "```\n",
        "array([[ True],\n",
        "       [ True]]).\n",
        "```\n",
        "\n",
        "    "
      ],
      "metadata": {
        "id": "EjdTIHKLfrQF"
      }
    },
    {
      "cell_type": "code",
      "source": [
        "w == 5 * v"
      ],
      "metadata": {
        "id": "h-6Pc-Ada0lu"
      },
      "execution_count": null,
      "outputs": []
    },
    {
      "cell_type": "markdown",
      "source": [
        "# Exercise 3\n",
        "\n",
        "Is the set V linearly dependent or independent? Justify your answer with a short sentence (max 20 words).\n"
      ],
      "metadata": {
        "id": "W78-Q8eFfvHm"
      }
    },
    {
      "cell_type": "markdown",
      "source": [
        "# Exercise 4\n",
        "\n",
        "Please provide a set W with two column vectors of dimension 3 that are linearly independent."
      ],
      "metadata": {
        "id": "MiwTLsRDgPor"
      }
    },
    {
      "cell_type": "code",
      "source": [
        "x =\n",
        "y =\n",
        "W = [x,y]"
      ],
      "metadata": {
        "id": "igl5urc1CJvZ"
      },
      "execution_count": null,
      "outputs": []
    },
    {
      "cell_type": "markdown",
      "source": [
        "# Exercise 6\n",
        "In the following we have defined \"lindcheck\", a function that can be used to check if a vector set is linearly independent.\n",
        "\n",
        "As it is, you should obtain the result True in case your vectors x,and y are correctly linearly independent.\n",
        "\n",
        "You should also obtain the False if you try to pass the space V.\n",
        "\n",
        "Obs. \"lindcheck\" works by contructing a matrix and computing its rank. We will talk about this in the Matrices part 2 lecture, so you are not expected to understand how it works now."
      ],
      "metadata": {
        "id": "192iDjFpgVTZ"
      }
    },
    {
      "cell_type": "code",
      "source": [
        "def lindcheck(vectors):\n",
        "    matrix = np.column_stack(vectors)\n",
        "    rank = np.linalg.matrix_rank(matrix)\n",
        "    return rank == len(vectors)\n",
        "\n",
        "print(lindcheck(W))"
      ],
      "metadata": {
        "id": "vhRrirjDCx9n"
      },
      "execution_count": null,
      "outputs": []
    },
    {
      "cell_type": "markdown",
      "source": [
        "# Exercise 7\n",
        "\n",
        "In the following code, change the values of the lambdas (l1 and l2) such that  the vector (1,1,2) is the result of the linear combination of v1 and v2."
      ],
      "metadata": {
        "id": "63jdTPZGgcLp"
      }
    },
    {
      "cell_type": "code",
      "source": [
        "v1 = np.array([[1], [1], [0]])\n",
        "v2 = np.array([[1], [1], [1]])\n",
        "l1 = None\n",
        "l2 = None"
      ],
      "metadata": {
        "id": "yFjW-V_WarZw"
      },
      "execution_count": null,
      "outputs": []
    },
    {
      "cell_type": "markdown",
      "source": [
        "# Exercise 8\n",
        "\n",
        "What is the subspace spanned by the vector v2?"
      ],
      "metadata": {
        "id": "4yb4ymungiCI"
      }
    },
    {
      "cell_type": "markdown",
      "source": [],
      "metadata": {
        "id": "ycgTbUXAcFBK"
      }
    },
    {
      "cell_type": "markdown",
      "source": [
        "# Exercise 9\n",
        "\n",
        "Explain in your words what is the formal definition of a basis.\n"
      ],
      "metadata": {
        "id": "kik0w2WQ_Yl4"
      }
    },
    {
      "cell_type": "markdown",
      "source": [
        "# Exercise 10\n",
        "\n",
        "Define a function to plot the standard basis vectors of ℝ²."
      ],
      "metadata": {
        "id": "1m1E3doCXB04"
      }
    },
    {
      "cell_type": "markdown",
      "source": [
        "# Exercise 11\n",
        "\n",
        "Add to your plot the vector v you defined at the begining of the exercise sheet."
      ],
      "metadata": {
        "id": "80x4IGVoBVq4"
      }
    },
    {
      "cell_type": "markdown",
      "source": [
        "# Exercise 12\n",
        "\n",
        "Can you define a basis for ℝ⁴? Is it the standard basis? If yes, provide another basis."
      ],
      "metadata": {
        "id": "fscK0Obfco0q"
      }
    }
  ]
}